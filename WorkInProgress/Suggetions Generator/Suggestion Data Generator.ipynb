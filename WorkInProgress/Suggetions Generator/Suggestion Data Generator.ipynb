version https://git-lfs.github.com/spec/v1
oid sha256:70c560155b23b3fdddb7061a7f5d4a1a86bd4f82e47dbbf3cab449b7e497ba1c
size 92013
