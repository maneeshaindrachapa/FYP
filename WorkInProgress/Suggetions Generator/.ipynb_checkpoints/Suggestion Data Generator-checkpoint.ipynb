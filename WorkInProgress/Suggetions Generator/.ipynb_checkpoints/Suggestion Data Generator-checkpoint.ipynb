version https://git-lfs.github.com/spec/v1
oid sha256:fc32207ac13bdfeee5af875df97bf98e20a52a18bde836bac28e1c7302b989b2
size 26371
